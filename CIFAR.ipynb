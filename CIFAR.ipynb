{
 "cells": [
  {
   "cell_type": "markdown",
   "metadata": {},
   "source": [
    "Import all necessary libraries. These can be installed with `poetry install --no-root`"
   ]
  },
  {
   "cell_type": "code",
   "execution_count": 1,
   "metadata": {},
   "outputs": [],
   "source": [
    "import torch\n",
    "import torchvision\n",
    "import torchvision.transforms as transforms\n",
    "from torch.utils.data import DataLoader\n",
    "import torch.nn as nn\n",
    "import torch.nn.functional as F\n",
    "import matplotlib.pyplot as plt\n",
    "import numpy as np\n",
    "\n",
    "device = torch.device(\"cuda\") if torch.cuda.is_available() else torch.device(\"cpu\")"
   ]
  },
  {
   "cell_type": "markdown",
   "metadata": {},
   "source": [
    "### **Data Loading**\n",
    "\n",
    "The data loading starts by defining the transforms. The transforms.Compose() defines a sequence of transforms to perform on the dataset.\n",
    "- transforms.ToTensor(): Converts the data to tensors\n",
    "- transforms.Normalize(): Normalizes the data - since this data is pixel values, there are three channels that need normalized (RGB). They're being normalized to between 0 and 1, so the mean and std are both 0.5 for each channel\n",
    "\n",
    "The data is then downloaded from the torchvision datasets and wrapped as DataLoaders so that they can be iterated over for training/evaluation"
   ]
  },
  {
   "cell_type": "code",
   "execution_count": 2,
   "metadata": {},
   "outputs": [
    {
     "name": "stdout",
     "output_type": "stream",
     "text": [
      "Files already downloaded and verified\n",
      "Files already downloaded and verified\n"
     ]
    }
   ],
   "source": [
    "# Define the batch size and number of workers\n",
    "BATCH_SIZE = 4\n",
    "NUM_WORKERS = 4\n",
    "\n",
    "# Define a transform to normalize the data\n",
    "transform = transforms.Compose([\n",
    "    transforms.ToTensor(),\n",
    "    transforms.Normalize((0.5, 0.5, 0.5), (0.5, 0.5, 0.5))\n",
    "])\n",
    "target_transform = transforms.Compose([lambda x: F.one_hot(x, num_classes=10).to(float)])\n",
    "\n",
    "# Download and load the training data\n",
    "train_set = torchvision.datasets.CIFAR10(root='./data', train=True, download=True, transform=transform)\n",
    "test_set = torchvision.datasets.CIFAR10(root='./data', train=False, download=True, transform=transform)\n",
    "train_loader = DataLoader(train_set, batch_size=BATCH_SIZE, num_workers=NUM_WORKERS)\n",
    "test_loader = DataLoader(test_set, batch_size=BATCH_SIZE, num_workers=NUM_WORKERS)\n",
    "\n",
    "classes = ('plane', 'car', 'bird', 'cat', 'deer', 'dog', 'frog', 'horse', 'ship', 'truck')"
   ]
  },
  {
   "cell_type": "markdown",
   "metadata": {},
   "source": [
    "### **Convolutional Neural Network (CNN)**\n",
    "\n",
    "Since the images are bigger than the MNIST dataset (32x32 vs 28x28) and they have more features to represent (animals with background noise vs black and white numbers), the CIFAR dataset requires a convolutional neural network. This process is shown in the GIF below.\n",
    "\n",
    "![convolution_gif](images/convolution.gif)  \n",
    "*From ![https://github.com/nvan21/image-classification]*\n",
    "\n",
    "This network has two convolutional layers, then a max pooling layer, finished off by three fully connected linear layers. Each layer is explained below.\n",
    "- **Convolution Layer 1:** This layer takes in 3 inputs (since there is a red, green, and blue channel) and has an output of 6 channels (arbitrary number of kernel features that the network will learn). Each kernel is a matrix of weights that are trained to detect image features like edges, textures, etc. For this network, the output image size will be 28x28 since there's a 5x5 kernel with no padding. This means that a 2 pixel wide ring will be lost (4 pixels in each dimension).\n",
    "- **Convolution Layer 2:** This layer takes in 6 inputs (the outputs from the previous layer) and has 16 outputs. This means the network will learn 16 different features through the 16 different kernel matrices. The input image size to this layer is 14x14 since there's a 2x2 max pooling layer between this layer and the first convolutional layer (read below). The output image size will be 10x10 for the same reason as convolution layer 1.\n",
    "- **2D Max Pooling:** This layer takes the two image dimensions and does a max sliding operation to reduce dimensionality. It does this by taking the max value in a kernel (2x2 is standard and is what's used in this network), and then mapping that value to a new image matrix. The image size is 28x28 for the first pooling operation, so the output would be 14x14. The image size is 10x10 for the second pooling operation, so the output would be 5x5. The GIF below shows this operation in action.\n",
    "\n",
    "![pooling_gif](images/max_pooling.gif)  \n",
    "*From https://www.quora.com/What-is-pooling-in-a-deep-architecture*\n",
    "\n",
    "- **Linear Layer 1:** This layer is the start of the fully connected portion of the network. The important thing to note here is the input dimension. The equation is $N_{in} = f * w * h$ where $N_{in}$ is the number of input nodes for the linear layer, $f$ is the number of output features from the last convolution layer, and $w$ and $h$ are the width and height of the image data respectively after it's gone through the convolution layers. In this setup, the number of input layer nodes would be $N_{in} = 16 * 5 * 5 = 800$. The 120 node output of this layer is an arbitrary number that's meant to slowly reduce the dimensionality to the 10 class classification.\n",
    "- **Linear Layer 2:** This layer is an arbitrary layer that reduces the number of dimensions from 120 to 84.\n",
    "- **Linear Layer 3:** This is the last linear layer, so the number of output nodes has to be equal to the number of classes. Since the CIFAR-10 dataset has 10 classes, this layer has 10 outputs.\n",
    "\n",
    "### **Forward Pass**\n",
    "The network takes the batch image data and feeds it through the different layers. It starts by feeding the data through the first convolution layer, and then applying the ReLU activation function (shown below). This induces non-linearity into the model which is important for the network to learn complex features. The output of this convolution layer then undergoes a pooling operation to reduce the dimensionality. This process is repeated one more time with the next convolution layer. Before the output of the last convolution layer is fed into the fully connected portion of the network, the tensor is flattened to two dimensions instead of four. The data is then fed through the three linear layers with a ReLU activation function for the first two, and no activation function for the last layer. It returns the raw probability logits.\n",
    "\n",
    "![relu](images/relu.ppm)  \n",
    "*Image from https://www.researchgate.net/figure/Relu-activation-function-graph_fig3_336585385*"
   ]
  },
  {
   "cell_type": "code",
   "execution_count": 3,
   "metadata": {},
   "outputs": [],
   "source": [
    "class ConvNet(nn.Module):\n",
    "    def __init__(self):\n",
    "        super(ConvNet, self).__init__()\n",
    "\n",
    "        self.conv1 = nn.Conv2d(3, 6, 5)\n",
    "        self.conv2 = nn.Conv2d(6, 16, 5)\n",
    "        self.pool = nn.MaxPool2d(2, 2)\n",
    "        self.fc1 = nn.Linear(16 * 5 * 5, 120)\n",
    "        self.fc2 = nn.Linear(120, 84)\n",
    "        self.fc3 = nn.Linear(84, 10)\n",
    "\n",
    "    def forward(self, x):\n",
    "        x = F.relu(self.conv1(x))\n",
    "        x = self.pool(x)\n",
    "        x = F.relu(self.conv2(x))\n",
    "        x = self.pool(x)\n",
    "        x = x.reshape(x.shape[0], -1)\n",
    "        x = F.relu(self.fc1(x))\n",
    "        x = F.relu(self.fc2(x))\n",
    "        x = self.fc3(x)\n",
    "\n",
    "        return x"
   ]
  },
  {
   "cell_type": "markdown",
   "metadata": {},
   "source": [
    "### **Learning Functions**\n",
    "\n",
    "This program uses cross entropy loss for the loss function and Adam as the network optimizer. The equation for multi-class classification is $L = -\\Sigma_{i=1}^{C}y_i\\log{\\hat{y_i}}$, where $L$ is the loss, $C$ is the number of classes, $y_i$ is a one-hot encoded vector of the classes, and $\\hat{y_i}$ is the predicted probability vector from the network."
   ]
  },
  {
   "cell_type": "code",
   "execution_count": 4,
   "metadata": {},
   "outputs": [
    {
     "name": "stdout",
     "output_type": "stream",
     "text": [
      "cuda\n"
     ]
    }
   ],
   "source": [
    "cnet = ConvNet().to(device)\n",
    "loss_fn = nn.CrossEntropyLoss()\n",
    "optim = torch.optim.Adam(cnet.parameters(), lr=0.001)"
   ]
  },
  {
   "cell_type": "markdown",
   "metadata": {},
   "source": [
    "### **Data Structure**\n",
    "\n",
    "When iterating through the DataLoader, each data point has the following shape:\n",
    "\n",
    "\n",
    "`data.shape = [batch_size, image_channels, pixel_width, pixel_height]`\n",
    "\n",
    "- **batch_size**: The number of images per batch\n",
    "- **image_channels**: The number of channels per image (i.e. 3 for RGB images)\n",
    "- **pixel_width**: The width of an individual image in pixels\n",
    "- **pixel_height**: The height of an individual image in pixels\n",
    "\n",
    "The data is then transformed so that the image channels, pixel width, and pixel height are flattened to one dimension. This makes the following data shape:\n",
    "\n",
    "`data.shape = [batch_size, image_channels * pixel_width * pixel_height]`\n"
   ]
  },
  {
   "cell_type": "code",
   "execution_count": 9,
   "metadata": {},
   "outputs": [
    {
     "name": "stdout",
     "output_type": "stream",
     "text": [
      "Starting training for epoch 0\n",
      "Starting training for epoch 1\n",
      "Starting training for epoch 2\n",
      "Starting training for epoch 3\n",
      "Starting training for epoch 4\n",
      "Starting training for epoch 5\n",
      "Starting training for epoch 6\n",
      "Starting training for epoch 7\n",
      "Starting training for epoch 8\n",
      "Starting training for epoch 9\n",
      "Starting training for epoch 10\n",
      "Starting training for epoch 11\n",
      "Starting training for epoch 12\n",
      "Starting training for epoch 13\n",
      "Starting training for epoch 14\n",
      "Starting training for epoch 15\n",
      "Starting training for epoch 16\n",
      "Starting training for epoch 17\n",
      "Starting training for epoch 18\n",
      "Starting training for epoch 19\n",
      "Starting training for epoch 20\n",
      "Starting training for epoch 21\n",
      "Starting training for epoch 22\n",
      "Starting training for epoch 23\n",
      "Starting training for epoch 24\n",
      "Starting training for epoch 25\n",
      "Starting training for epoch 26\n",
      "Starting training for epoch 27\n",
      "Starting training for epoch 28\n",
      "Starting training for epoch 29\n",
      "Starting training for epoch 30\n",
      "Starting training for epoch 31\n",
      "Starting training for epoch 32\n",
      "Starting training for epoch 33\n",
      "Starting training for epoch 34\n",
      "Starting training for epoch 35\n",
      "Starting training for epoch 36\n",
      "Starting training for epoch 37\n",
      "Starting training for epoch 38\n",
      "Starting training for epoch 39\n",
      "Starting training for epoch 40\n",
      "Starting training for epoch 41\n",
      "Starting training for epoch 42\n",
      "Starting training for epoch 43\n",
      "Starting training for epoch 44\n",
      "Starting training for epoch 45\n",
      "Starting training for epoch 46\n",
      "Starting training for epoch 47\n",
      "Starting training for epoch 48\n",
      "Starting training for epoch 49\n",
      "Starting training for epoch 50\n",
      "Starting training for epoch 51\n",
      "Starting training for epoch 52\n",
      "Starting training for epoch 53\n",
      "Starting training for epoch 54\n",
      "Starting training for epoch 55\n",
      "Starting training for epoch 56\n",
      "Starting training for epoch 57\n",
      "Starting training for epoch 58\n",
      "Starting training for epoch 59\n",
      "Starting training for epoch 60\n",
      "Starting training for epoch 61\n",
      "Starting training for epoch 62\n",
      "Starting training for epoch 63\n",
      "Starting training for epoch 64\n",
      "Starting training for epoch 65\n",
      "Starting training for epoch 66\n",
      "Starting training for epoch 67\n",
      "Starting training for epoch 68\n",
      "Starting training for epoch 69\n",
      "Starting training for epoch 70\n",
      "Starting training for epoch 71\n",
      "Starting training for epoch 72\n",
      "Starting training for epoch 73\n",
      "Starting training for epoch 74\n",
      "Starting training for epoch 75\n",
      "Starting training for epoch 76\n",
      "Starting training for epoch 77\n",
      "Starting training for epoch 78\n",
      "Starting training for epoch 79\n",
      "Starting training for epoch 80\n",
      "Starting training for epoch 81\n",
      "Starting training for epoch 82\n",
      "Starting training for epoch 83\n",
      "Starting training for epoch 84\n",
      "Starting training for epoch 85\n",
      "Starting training for epoch 86\n",
      "Starting training for epoch 87\n",
      "Starting training for epoch 88\n",
      "Starting training for epoch 89\n",
      "Starting training for epoch 90\n",
      "Starting training for epoch 91\n",
      "Starting training for epoch 92\n",
      "Starting training for epoch 93\n",
      "Starting training for epoch 94\n",
      "Starting training for epoch 95\n",
      "Starting training for epoch 96\n",
      "Starting training for epoch 97\n",
      "Starting training for epoch 98\n",
      "Starting training for epoch 99\n"
     ]
    }
   ],
   "source": [
    "# Store the epoch and loss data for plotting purposes later on\n",
    "epochs = []\n",
    "losses = []\n",
    "\n",
    "# Number of training epochs\n",
    "n_epochs = 100\n",
    "\n",
    "for epoch in range(n_epochs):\n",
    "    print(f\"Starting training for epoch {epoch}\")\n",
    "    N = len(train_loader)\n",
    "\n",
    "    for idx, (data, target) in enumerate(train_loader):\n",
    "        data = data.to(device)\n",
    "        target = target.to(device)\n",
    "        \n",
    "        logits = cnet(data)\n",
    "        loss = loss_fn(logits, target)\n",
    "\n",
    "        optim.zero_grad()\n",
    "        loss.backward()\n",
    "        optim.step()\n",
    "\n",
    "        epochs.append(epoch + idx/N)\n",
    "        losses.append(loss.item())\n",
    "\n",
    "epochs = np.array(epochs)\n",
    "losses = np.array(losses)"
   ]
  },
  {
   "cell_type": "code",
   "execution_count": 10,
   "metadata": {},
   "outputs": [
    {
     "data": {
      "text/plain": [
       "Text(0.5, 1.0, 'Losses per Epoch')"
      ]
     },
     "execution_count": 10,
     "metadata": {},
     "output_type": "execute_result"
    },
    {
     "data": {
      "image/png": "[encoded data removed]",
      "text/plain": [
       "<Figure size 640x480 with 1 Axes>"
      ]
     },
     "metadata": {},
     "output_type": "display_data"
    }
   ],
   "source": [
    "epochs_avg = epochs.reshape(20, -1).mean(axis=1)\n",
    "losses_avg = losses.reshape(20, -1).mean(axis=1)\n",
    "plt.plot(epochs_avg, losses_avg)\n",
    "plt.xlabel(\"Epochs\")\n",
    "plt.ylabel(\"Losses\")\n",
    "plt.title(\"Losses per Epoch\")"
   ]
  },
  {
   "cell_type": "code",
   "execution_count": 13,
   "metadata": {},
   "outputs": [],
   "source": [
    "torch.save(cnet.state_dict(), \"model.pt\")"
   ]
  },
  {
   "cell_type": "code",
   "execution_count": null,
   "metadata": {},
   "outputs": [],
   "source": []
  }
 ],
 "metadata": {
  "kernelspec": {
   "display_name": "supervised-learning--zuxsoTj-py3.12",
   "language": "python",
   "name": "python3"
  },
  "language_info": {
   "codemirror_mode": {
    "name": "ipython",
    "version": 3
   },
   "file_extension": ".py",
   "mimetype": "text/x-python",
   "name": "python",
   "nbconvert_exporter": "python",
   "pygments_lexer": "ipython3",
   "version": "3.11.5"
  }
 },
 "nbformat": 4,
 "nbformat_minor": 2
}
